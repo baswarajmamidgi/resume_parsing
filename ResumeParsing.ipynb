{
 "cells": [
  {
   "cell_type": "code",
   "execution_count": 6,
   "metadata": {},
   "outputs": [
    {
     "name": "stdout",
     "output_type": "stream",
     "text": [
      "<_sre.SRE_Match object; span=(53, 80), match='baswarajmamidgi10@gmail.com'>\n",
      "<_sre.SRE_Match object; span=(82, 96), match='+91 9989478011'>\n",
      "<_sre.SRE_Match object; span=(250, 254), match='8.50'>\n",
      "<_sre.SRE_Match object; span=(250, 254), match='8.50'>\n"
     ]
    }
   ],
   "source": [
    "import tika\n",
    "from tika import parser\n",
    "import re\n",
    "class ResumeParsing:\n",
    "    def parseResume():\n",
    "        tika.initVM()\n",
    "        parsed = parser.from_file(\"BaswarajMamidgi.pdf\")\n",
    "        #print(parsed[\"content\"]) #prints the entire content in resume\n",
    "        email_regex = re.compile(r\"[A-Z0-9._%+-]+@[A-Z0-9.-]+\\.[A-Z]{2,4}\", re.IGNORECASE) #regular expression for email\n",
    "        result = re.search(email_regex,parsed[\"content\"])\n",
    "        print(result)\n",
    "\n",
    "        phone_regex = re.compile(r\"[+0-9 ]{10,14}\", re.IGNORECASE) #regular expression for phone number\n",
    "        result = re.search(phone_regex,parsed[\"content\"])\n",
    "        print(result)\n",
    "        \n",
    "        gpa_regex = re.compile(r\"[0-9]+\\.[0-9]{1,3}\", re.IGNORECASE) #regular expression for gpa\n",
    "        result = re.search(gpa_regex,parsed[\"content\"])\n",
    "        print(result)\n",
    "        \n",
    "        address_regex = re.compile(r\"[0-9]+\\.[0-9]{1,3}\", re.IGNORECASE) #regular expression for gpa\n",
    "        result = re.search(gpa_regex,parsed[\"content\"])\n",
    "        print(result)\n",
    "\n",
    "     \n",
    "     \n",
    "    if __name__==\"__main__\":\n",
    "        parseResume()"
   ]
  },
  {
   "cell_type": "code",
   "execution_count": 5,
   "metadata": {},
   "outputs": [
    {
     "name": "stdout",
     "output_type": "stream",
     "text": [
      "<_sre.SRE_Match object; span=(329, 353), match='mvijaykumar360@gmail.com'>\n",
      "<_sre.SRE_Match object; span=(233, 246), match='+918106503676'>\n",
      "<_sre.SRE_Match object; span=(54, 67), match='M.VIJAYKUMAR,'>\n"
     ]
    }
   ],
   "source": [
    "import tika\n",
    "from tika import parser\n",
    "import re\n",
    "class ResumeParsing:\n",
    "    def parseResume():\n",
    "        tika.initVM()\n",
    "        parsed = parser.from_file(\"vkumar.docx\")\n",
    "        #print(parsed[\"content\"]) #prints the entire content in resume\n",
    "        email_regex = re.compile(r\"[A-Z0-9._%+-]+@[A-Z0-9.-]+\\.[A-Z]{2,4}\", re.IGNORECASE) #regular expression for email\n",
    "        result = re.search(email_regex,parsed[\"content\"])\n",
    "        print(result)\n",
    "\n",
    "        phone_regex = re.compile(r\"[+0-9]{10,14}\", re.IGNORECASE) #regular expression for phone number\n",
    "        result = re.search(phone_regex,parsed[\"content\"])\n",
    "        print(result)\n",
    "        \n",
    "       \n",
    "        address_regex = re.compile(r\"[A-Z0-9.-:()]+\\,{1,5}\", re.IGNORECASE) #regular expression for gpa\n",
    "        result = re.search(address_regex,parsed[\"content\"])\n",
    "        print(result)\n",
    "\n",
    "     \n",
    "     \n",
    "    if __name__==\"__main__\":\n",
    "        parseResume()"
   ]
  },
  {
   "cell_type": "code",
   "execution_count": null,
   "metadata": {
    "collapsed": true
   },
   "outputs": [],
   "source": []
  },
  {
   "cell_type": "code",
   "execution_count": null,
   "metadata": {
    "collapsed": true
   },
   "outputs": [],
   "source": []
  }
 ],
 "metadata": {
  "kernelspec": {
   "display_name": "Python 3",
   "language": "python",
   "name": "python3"
  },
  "language_info": {
   "codemirror_mode": {
    "name": "ipython",
    "version": 3
   },
   "file_extension": ".py",
   "mimetype": "text/x-python",
   "name": "python",
   "nbconvert_exporter": "python",
   "pygments_lexer": "ipython3",
   "version": "3.6.2"
  }
 },
 "nbformat": 4,
 "nbformat_minor": 2
}
